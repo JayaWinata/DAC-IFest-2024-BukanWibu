{
 "cells": [
  {
   "cell_type": "markdown",
   "metadata": {},
   "source": [
    "# Analisis Korelasi antara Akses Komputer, Akses Internet, Tingkat Pendidikan, Human Development Index (HDI), dan Jenis Kelamin dengan Kualitas Pendidikan "
   ]
  },
  {
   "cell_type": "code",
   "execution_count": 588,
   "metadata": {},
   "outputs": [],
   "source": [
    "import matplotlib.pyplot as plt\n",
    "import seaborn as sns\n",
    "import scipy.stats as stats\n",
    "import pandas as pd\n",
    "import numpy as np"
   ]
  },
  {
   "cell_type": "markdown",
   "metadata": {},
   "source": [
    "## Load & Read Dataset"
   ]
  },
  {
   "cell_type": "markdown",
   "metadata": {},
   "source": [
    "### Deskripsi dataset:\n",
    "1. SE_ACS_CMPTR: Persentase sekolah berdasarkan jenjang pendidikan (dasar, menengah pertama, dan menengah atas) yang memiliki akses ke fasilitas komputer.\n",
    "2. SE_ACS_INTNT: Persentase sekolah yang memiliki akses ke fasilitas internet\n",
    "3. SE_TOT_PRFL: Proporsi / persentase anak-anak dan remaja yang mencapai tingkat kemahiran minimum dalam membaca dan matematika\n",
    "4. HDI: Human Development Index (HDI) adalah ukuran ringkasan pencapaian rata-rata dalam dimensi-dimensi utama pembangunan manusia, yaitu umur panjang dan sehat, berpengetahuan luas, dan memiliki standar hidup yang layak. IPM adalah rata-rata geometris indeks yang dinormalisasi untuk masing-masing dari tiga dimensi. Dataset ini merupakan dataset eksternal yang didapatkan pada [tautan berikut](https://hdr.undp.org/data-center/human-development-index#/indicies/HDI). Data HDI yang digunakan adalah data HDI di setiap negara pada tahun 2022\n"
   ]
  },
  {
   "cell_type": "code",
   "execution_count": 589,
   "metadata": {},
   "outputs": [],
   "source": [
    "SHEET_NAME = 'Table format'\n",
    "\n",
    "se_acs_cmptr_original = pd.read_excel('Dataset/SE_ACS_CMPTR.xlsx', sheet_name=SHEET_NAME)\n",
    "se_acs_intnt_original = pd.read_excel('Dataset/SE_ACS_INTNT.xlsx', sheet_name=SHEET_NAME)\n",
    "se_tot_prfl_original = pd.read_excel('Dataset/SE_TOT_PRFL.xlsx', sheet_name=SHEET_NAME)\n",
    "hdi_original = pd.read_excel('Dataset/HDR23-24_Statistical_Annex_HDI_Table.xlsx', sheet_name='HDI', skiprows=5, usecols=[1,2])"
   ]
  },
  {
   "cell_type": "code",
   "execution_count": 590,
   "metadata": {},
   "outputs": [
    {
     "data": {
      "text/html": [
       "<div>\n",
       "<style scoped>\n",
       "    .dataframe tbody tr th:only-of-type {\n",
       "        vertical-align: middle;\n",
       "    }\n",
       "\n",
       "    .dataframe tbody tr th {\n",
       "        vertical-align: top;\n",
       "    }\n",
       "\n",
       "    .dataframe thead th {\n",
       "        text-align: right;\n",
       "    }\n",
       "</style>\n",
       "<table border=\"1\" class=\"dataframe\">\n",
       "  <thead>\n",
       "    <tr style=\"text-align: right;\">\n",
       "      <th></th>\n",
       "      <th>Goal</th>\n",
       "      <th>Target</th>\n",
       "      <th>Indicator</th>\n",
       "      <th>SeriesCode</th>\n",
       "      <th>SeriesDescription</th>\n",
       "      <th>GeoAreaCode</th>\n",
       "      <th>GeoAreaName</th>\n",
       "      <th>Education level</th>\n",
       "      <th>Reporting Type</th>\n",
       "      <th>Units</th>\n",
       "      <th>...</th>\n",
       "      <th>2014</th>\n",
       "      <th>2015</th>\n",
       "      <th>2016</th>\n",
       "      <th>2017</th>\n",
       "      <th>2018</th>\n",
       "      <th>2019</th>\n",
       "      <th>2020</th>\n",
       "      <th>2021</th>\n",
       "      <th>2022</th>\n",
       "      <th>2023</th>\n",
       "    </tr>\n",
       "  </thead>\n",
       "  <tbody>\n",
       "    <tr>\n",
       "      <th>0</th>\n",
       "      <td>4</td>\n",
       "      <td>4.a</td>\n",
       "      <td>4.a.1</td>\n",
       "      <td>SE_ACS_CMPTR</td>\n",
       "      <td>Proportion of schools with access to computers...</td>\n",
       "      <td>4</td>\n",
       "      <td>Afghanistan</td>\n",
       "      <td>LOWSEC</td>\n",
       "      <td>G</td>\n",
       "      <td>PERCENT</td>\n",
       "      <td>...</td>\n",
       "      <td>NaN</td>\n",
       "      <td>NaN</td>\n",
       "      <td>NaN</td>\n",
       "      <td>NaN</td>\n",
       "      <td>NaN</td>\n",
       "      <td>10.30588</td>\n",
       "      <td>NaN</td>\n",
       "      <td>NaN</td>\n",
       "      <td>NaN</td>\n",
       "      <td>NaN</td>\n",
       "    </tr>\n",
       "    <tr>\n",
       "      <th>1</th>\n",
       "      <td>4</td>\n",
       "      <td>4.a</td>\n",
       "      <td>4.a.1</td>\n",
       "      <td>SE_ACS_CMPTR</td>\n",
       "      <td>Proportion of schools with access to computers...</td>\n",
       "      <td>4</td>\n",
       "      <td>Afghanistan</td>\n",
       "      <td>PRIMAR</td>\n",
       "      <td>G</td>\n",
       "      <td>PERCENT</td>\n",
       "      <td>...</td>\n",
       "      <td>NaN</td>\n",
       "      <td>NaN</td>\n",
       "      <td>NaN</td>\n",
       "      <td>NaN</td>\n",
       "      <td>NaN</td>\n",
       "      <td>8.95870</td>\n",
       "      <td>NaN</td>\n",
       "      <td>NaN</td>\n",
       "      <td>NaN</td>\n",
       "      <td>NaN</td>\n",
       "    </tr>\n",
       "    <tr>\n",
       "      <th>2</th>\n",
       "      <td>4</td>\n",
       "      <td>4.a</td>\n",
       "      <td>4.a.1</td>\n",
       "      <td>SE_ACS_CMPTR</td>\n",
       "      <td>Proportion of schools with access to computers...</td>\n",
       "      <td>4</td>\n",
       "      <td>Afghanistan</td>\n",
       "      <td>SECOND</td>\n",
       "      <td>G</td>\n",
       "      <td>PERCENT</td>\n",
       "      <td>...</td>\n",
       "      <td>NaN</td>\n",
       "      <td>NaN</td>\n",
       "      <td>NaN</td>\n",
       "      <td>NaN</td>\n",
       "      <td>NaN</td>\n",
       "      <td>17.82398</td>\n",
       "      <td>NaN</td>\n",
       "      <td>NaN</td>\n",
       "      <td>NaN</td>\n",
       "      <td>NaN</td>\n",
       "    </tr>\n",
       "    <tr>\n",
       "      <th>3</th>\n",
       "      <td>4</td>\n",
       "      <td>4.a</td>\n",
       "      <td>4.a.1</td>\n",
       "      <td>SE_ACS_CMPTR</td>\n",
       "      <td>Proportion of schools with access to computers...</td>\n",
       "      <td>4</td>\n",
       "      <td>Afghanistan</td>\n",
       "      <td>UPPSEC</td>\n",
       "      <td>G</td>\n",
       "      <td>PERCENT</td>\n",
       "      <td>...</td>\n",
       "      <td>NaN</td>\n",
       "      <td>NaN</td>\n",
       "      <td>NaN</td>\n",
       "      <td>NaN</td>\n",
       "      <td>NaN</td>\n",
       "      <td>23.47119</td>\n",
       "      <td>NaN</td>\n",
       "      <td>NaN</td>\n",
       "      <td>NaN</td>\n",
       "      <td>NaN</td>\n",
       "    </tr>\n",
       "    <tr>\n",
       "      <th>4</th>\n",
       "      <td>4</td>\n",
       "      <td>4.a</td>\n",
       "      <td>4.a.1</td>\n",
       "      <td>SE_ACS_CMPTR</td>\n",
       "      <td>Proportion of schools with access to computers...</td>\n",
       "      <td>8</td>\n",
       "      <td>Albania</td>\n",
       "      <td>LOWSEC</td>\n",
       "      <td>G</td>\n",
       "      <td>PERCENT</td>\n",
       "      <td>...</td>\n",
       "      <td>NaN</td>\n",
       "      <td>NaN</td>\n",
       "      <td>NaN</td>\n",
       "      <td>NaN</td>\n",
       "      <td>71.30112</td>\n",
       "      <td>82.82112</td>\n",
       "      <td>100.0</td>\n",
       "      <td>83.02048</td>\n",
       "      <td>NaN</td>\n",
       "      <td>NaN</td>\n",
       "    </tr>\n",
       "  </tbody>\n",
       "</table>\n",
       "<p>5 rows × 34 columns</p>\n",
       "</div>"
      ],
      "text/plain": [
       "   Goal Target Indicator    SeriesCode   \n",
       "0     4    4.a     4.a.1  SE_ACS_CMPTR  \\\n",
       "1     4    4.a     4.a.1  SE_ACS_CMPTR   \n",
       "2     4    4.a     4.a.1  SE_ACS_CMPTR   \n",
       "3     4    4.a     4.a.1  SE_ACS_CMPTR   \n",
       "4     4    4.a     4.a.1  SE_ACS_CMPTR   \n",
       "\n",
       "                                   SeriesDescription  GeoAreaCode   \n",
       "0  Proportion of schools with access to computers...            4  \\\n",
       "1  Proportion of schools with access to computers...            4   \n",
       "2  Proportion of schools with access to computers...            4   \n",
       "3  Proportion of schools with access to computers...            4   \n",
       "4  Proportion of schools with access to computers...            8   \n",
       "\n",
       "   GeoAreaName Education level Reporting Type    Units  ...  2014  2015  2016   \n",
       "0  Afghanistan          LOWSEC              G  PERCENT  ...   NaN   NaN   NaN  \\\n",
       "1  Afghanistan          PRIMAR              G  PERCENT  ...   NaN   NaN   NaN   \n",
       "2  Afghanistan          SECOND              G  PERCENT  ...   NaN   NaN   NaN   \n",
       "3  Afghanistan          UPPSEC              G  PERCENT  ...   NaN   NaN   NaN   \n",
       "4      Albania          LOWSEC              G  PERCENT  ...   NaN   NaN   NaN   \n",
       "\n",
       "   2017      2018      2019   2020      2021  2022  2023  \n",
       "0   NaN       NaN  10.30588    NaN       NaN   NaN   NaN  \n",
       "1   NaN       NaN   8.95870    NaN       NaN   NaN   NaN  \n",
       "2   NaN       NaN  17.82398    NaN       NaN   NaN   NaN  \n",
       "3   NaN       NaN  23.47119    NaN       NaN   NaN   NaN  \n",
       "4   NaN  71.30112  82.82112  100.0  83.02048   NaN   NaN  \n",
       "\n",
       "[5 rows x 34 columns]"
      ]
     },
     "execution_count": 590,
     "metadata": {},
     "output_type": "execute_result"
    }
   ],
   "source": [
    "se_acs_cmptr_original.head()"
   ]
  },
  {
   "cell_type": "code",
   "execution_count": 591,
   "metadata": {},
   "outputs": [
    {
     "data": {
      "text/html": [
       "<div>\n",
       "<style scoped>\n",
       "    .dataframe tbody tr th:only-of-type {\n",
       "        vertical-align: middle;\n",
       "    }\n",
       "\n",
       "    .dataframe tbody tr th {\n",
       "        vertical-align: top;\n",
       "    }\n",
       "\n",
       "    .dataframe thead th {\n",
       "        text-align: right;\n",
       "    }\n",
       "</style>\n",
       "<table border=\"1\" class=\"dataframe\">\n",
       "  <thead>\n",
       "    <tr style=\"text-align: right;\">\n",
       "      <th></th>\n",
       "      <th>Goal</th>\n",
       "      <th>Target</th>\n",
       "      <th>Indicator</th>\n",
       "      <th>SeriesCode</th>\n",
       "      <th>SeriesDescription</th>\n",
       "      <th>GeoAreaCode</th>\n",
       "      <th>GeoAreaName</th>\n",
       "      <th>Education level</th>\n",
       "      <th>Reporting Type</th>\n",
       "      <th>Units</th>\n",
       "      <th>...</th>\n",
       "      <th>2014</th>\n",
       "      <th>2015</th>\n",
       "      <th>2016</th>\n",
       "      <th>2017</th>\n",
       "      <th>2018</th>\n",
       "      <th>2019</th>\n",
       "      <th>2020</th>\n",
       "      <th>2021</th>\n",
       "      <th>2022</th>\n",
       "      <th>2023</th>\n",
       "    </tr>\n",
       "  </thead>\n",
       "  <tbody>\n",
       "    <tr>\n",
       "      <th>0</th>\n",
       "      <td>4</td>\n",
       "      <td>4.a</td>\n",
       "      <td>4.a.1</td>\n",
       "      <td>SE_ACS_INTNT</td>\n",
       "      <td>Proportion of schools with access to the inter...</td>\n",
       "      <td>8</td>\n",
       "      <td>Albania</td>\n",
       "      <td>LOWSEC</td>\n",
       "      <td>G</td>\n",
       "      <td>PERCENT</td>\n",
       "      <td>...</td>\n",
       "      <td>NaN</td>\n",
       "      <td>NaN</td>\n",
       "      <td>NaN</td>\n",
       "      <td>NaN</td>\n",
       "      <td>68.32714</td>\n",
       "      <td>83.92435</td>\n",
       "      <td>100.00000</td>\n",
       "      <td>72.26962</td>\n",
       "      <td>NaN</td>\n",
       "      <td>NaN</td>\n",
       "    </tr>\n",
       "    <tr>\n",
       "      <th>1</th>\n",
       "      <td>4</td>\n",
       "      <td>4.a</td>\n",
       "      <td>4.a.1</td>\n",
       "      <td>SE_ACS_INTNT</td>\n",
       "      <td>Proportion of schools with access to the inter...</td>\n",
       "      <td>8</td>\n",
       "      <td>Albania</td>\n",
       "      <td>PRIMAR</td>\n",
       "      <td>G</td>\n",
       "      <td>PERCENT</td>\n",
       "      <td>...</td>\n",
       "      <td>NaN</td>\n",
       "      <td>NaN</td>\n",
       "      <td>NaN</td>\n",
       "      <td>NaN</td>\n",
       "      <td>46.76692</td>\n",
       "      <td>50.70873</td>\n",
       "      <td>56.81391</td>\n",
       "      <td>72.26962</td>\n",
       "      <td>NaN</td>\n",
       "      <td>NaN</td>\n",
       "    </tr>\n",
       "    <tr>\n",
       "      <th>2</th>\n",
       "      <td>4</td>\n",
       "      <td>4.a</td>\n",
       "      <td>4.a.1</td>\n",
       "      <td>SE_ACS_INTNT</td>\n",
       "      <td>Proportion of schools with access to the inter...</td>\n",
       "      <td>8</td>\n",
       "      <td>Albania</td>\n",
       "      <td>SECOND</td>\n",
       "      <td>G</td>\n",
       "      <td>PERCENT</td>\n",
       "      <td>...</td>\n",
       "      <td>NaN</td>\n",
       "      <td>NaN</td>\n",
       "      <td>NaN</td>\n",
       "      <td>NaN</td>\n",
       "      <td>74.40217</td>\n",
       "      <td>85.90034</td>\n",
       "      <td>100.00000</td>\n",
       "      <td>70.77844</td>\n",
       "      <td>62.05444</td>\n",
       "      <td>NaN</td>\n",
       "    </tr>\n",
       "    <tr>\n",
       "      <th>3</th>\n",
       "      <td>4</td>\n",
       "      <td>4.a</td>\n",
       "      <td>4.a.1</td>\n",
       "      <td>SE_ACS_INTNT</td>\n",
       "      <td>Proportion of schools with access to the inter...</td>\n",
       "      <td>8</td>\n",
       "      <td>Albania</td>\n",
       "      <td>UPPSEC</td>\n",
       "      <td>G</td>\n",
       "      <td>PERCENT</td>\n",
       "      <td>...</td>\n",
       "      <td>NaN</td>\n",
       "      <td>NaN</td>\n",
       "      <td>NaN</td>\n",
       "      <td>76.19048</td>\n",
       "      <td>90.90909</td>\n",
       "      <td>90.94567</td>\n",
       "      <td>100.00000</td>\n",
       "      <td>67.26908</td>\n",
       "      <td>NaN</td>\n",
       "      <td>NaN</td>\n",
       "    </tr>\n",
       "    <tr>\n",
       "      <th>4</th>\n",
       "      <td>4</td>\n",
       "      <td>4.a</td>\n",
       "      <td>4.a.1</td>\n",
       "      <td>SE_ACS_INTNT</td>\n",
       "      <td>Proportion of schools with access to the inter...</td>\n",
       "      <td>12</td>\n",
       "      <td>Algeria</td>\n",
       "      <td>LOWSEC</td>\n",
       "      <td>G</td>\n",
       "      <td>PERCENT</td>\n",
       "      <td>...</td>\n",
       "      <td>NaN</td>\n",
       "      <td>NaN</td>\n",
       "      <td>NaN</td>\n",
       "      <td>NaN</td>\n",
       "      <td>NaN</td>\n",
       "      <td>NaN</td>\n",
       "      <td>59.89676</td>\n",
       "      <td>NaN</td>\n",
       "      <td>NaN</td>\n",
       "      <td>93.21817</td>\n",
       "    </tr>\n",
       "  </tbody>\n",
       "</table>\n",
       "<p>5 rows × 34 columns</p>\n",
       "</div>"
      ],
      "text/plain": [
       "   Goal Target Indicator    SeriesCode   \n",
       "0     4    4.a     4.a.1  SE_ACS_INTNT  \\\n",
       "1     4    4.a     4.a.1  SE_ACS_INTNT   \n",
       "2     4    4.a     4.a.1  SE_ACS_INTNT   \n",
       "3     4    4.a     4.a.1  SE_ACS_INTNT   \n",
       "4     4    4.a     4.a.1  SE_ACS_INTNT   \n",
       "\n",
       "                                   SeriesDescription  GeoAreaCode GeoAreaName   \n",
       "0  Proportion of schools with access to the inter...            8     Albania  \\\n",
       "1  Proportion of schools with access to the inter...            8     Albania   \n",
       "2  Proportion of schools with access to the inter...            8     Albania   \n",
       "3  Proportion of schools with access to the inter...            8     Albania   \n",
       "4  Proportion of schools with access to the inter...           12     Algeria   \n",
       "\n",
       "  Education level Reporting Type    Units  ...  2014  2015  2016      2017   \n",
       "0          LOWSEC              G  PERCENT  ...   NaN   NaN   NaN       NaN  \\\n",
       "1          PRIMAR              G  PERCENT  ...   NaN   NaN   NaN       NaN   \n",
       "2          SECOND              G  PERCENT  ...   NaN   NaN   NaN       NaN   \n",
       "3          UPPSEC              G  PERCENT  ...   NaN   NaN   NaN  76.19048   \n",
       "4          LOWSEC              G  PERCENT  ...   NaN   NaN   NaN       NaN   \n",
       "\n",
       "       2018      2019       2020      2021      2022      2023  \n",
       "0  68.32714  83.92435  100.00000  72.26962       NaN       NaN  \n",
       "1  46.76692  50.70873   56.81391  72.26962       NaN       NaN  \n",
       "2  74.40217  85.90034  100.00000  70.77844  62.05444       NaN  \n",
       "3  90.90909  90.94567  100.00000  67.26908       NaN       NaN  \n",
       "4       NaN       NaN   59.89676       NaN       NaN  93.21817  \n",
       "\n",
       "[5 rows x 34 columns]"
      ]
     },
     "execution_count": 591,
     "metadata": {},
     "output_type": "execute_result"
    }
   ],
   "source": [
    "se_acs_intnt_original.head()"
   ]
  },
  {
   "cell_type": "code",
   "execution_count": 592,
   "metadata": {},
   "outputs": [
    {
     "data": {
      "text/html": [
       "<div>\n",
       "<style scoped>\n",
       "    .dataframe tbody tr th:only-of-type {\n",
       "        vertical-align: middle;\n",
       "    }\n",
       "\n",
       "    .dataframe tbody tr th {\n",
       "        vertical-align: top;\n",
       "    }\n",
       "\n",
       "    .dataframe thead th {\n",
       "        text-align: right;\n",
       "    }\n",
       "</style>\n",
       "<table border=\"1\" class=\"dataframe\">\n",
       "  <thead>\n",
       "    <tr style=\"text-align: right;\">\n",
       "      <th></th>\n",
       "      <th>Goal</th>\n",
       "      <th>Target</th>\n",
       "      <th>Indicator</th>\n",
       "      <th>SeriesCode</th>\n",
       "      <th>SeriesDescription</th>\n",
       "      <th>GeoAreaCode</th>\n",
       "      <th>GeoAreaName</th>\n",
       "      <th>Education level</th>\n",
       "      <th>Reporting Type</th>\n",
       "      <th>Sex</th>\n",
       "      <th>...</th>\n",
       "      <th>2013</th>\n",
       "      <th>2014</th>\n",
       "      <th>2015</th>\n",
       "      <th>2016</th>\n",
       "      <th>2017</th>\n",
       "      <th>2018</th>\n",
       "      <th>2019</th>\n",
       "      <th>2021</th>\n",
       "      <th>2022</th>\n",
       "      <th>2023</th>\n",
       "    </tr>\n",
       "  </thead>\n",
       "  <tbody>\n",
       "    <tr>\n",
       "      <th>0</th>\n",
       "      <td>4</td>\n",
       "      <td>4.1</td>\n",
       "      <td>4.1.1</td>\n",
       "      <td>SE_TOT_PRFL</td>\n",
       "      <td>Proportion of children and young people achiev...</td>\n",
       "      <td>8</td>\n",
       "      <td>Albania</td>\n",
       "      <td>LOWSEC</td>\n",
       "      <td>G</td>\n",
       "      <td>BOTHSEX</td>\n",
       "      <td>...</td>\n",
       "      <td>NaN</td>\n",
       "      <td>NaN</td>\n",
       "      <td>46.71703</td>\n",
       "      <td>NaN</td>\n",
       "      <td>NaN</td>\n",
       "      <td>57.62715</td>\n",
       "      <td>NaN</td>\n",
       "      <td>NaN</td>\n",
       "      <td>26.05</td>\n",
       "      <td>NaN</td>\n",
       "    </tr>\n",
       "    <tr>\n",
       "      <th>1</th>\n",
       "      <td>4</td>\n",
       "      <td>4.1</td>\n",
       "      <td>4.1.1</td>\n",
       "      <td>SE_TOT_PRFL</td>\n",
       "      <td>Proportion of children and young people achiev...</td>\n",
       "      <td>8</td>\n",
       "      <td>Albania</td>\n",
       "      <td>LOWSEC</td>\n",
       "      <td>G</td>\n",
       "      <td>BOTHSEX</td>\n",
       "      <td>...</td>\n",
       "      <td>NaN</td>\n",
       "      <td>NaN</td>\n",
       "      <td>49.72273</td>\n",
       "      <td>NaN</td>\n",
       "      <td>NaN</td>\n",
       "      <td>47.76432</td>\n",
       "      <td>NaN</td>\n",
       "      <td>NaN</td>\n",
       "      <td>26.29</td>\n",
       "      <td>NaN</td>\n",
       "    </tr>\n",
       "    <tr>\n",
       "      <th>2</th>\n",
       "      <td>4</td>\n",
       "      <td>4.1</td>\n",
       "      <td>4.1.1</td>\n",
       "      <td>SE_TOT_PRFL</td>\n",
       "      <td>Proportion of children and young people achiev...</td>\n",
       "      <td>8</td>\n",
       "      <td>Albania</td>\n",
       "      <td>LOWSEC</td>\n",
       "      <td>G</td>\n",
       "      <td>FEMALE</td>\n",
       "      <td>...</td>\n",
       "      <td>NaN</td>\n",
       "      <td>NaN</td>\n",
       "      <td>48.80595</td>\n",
       "      <td>NaN</td>\n",
       "      <td>NaN</td>\n",
       "      <td>59.42498</td>\n",
       "      <td>NaN</td>\n",
       "      <td>NaN</td>\n",
       "      <td>29.33</td>\n",
       "      <td>NaN</td>\n",
       "    </tr>\n",
       "    <tr>\n",
       "      <th>3</th>\n",
       "      <td>4</td>\n",
       "      <td>4.1</td>\n",
       "      <td>4.1.1</td>\n",
       "      <td>SE_TOT_PRFL</td>\n",
       "      <td>Proportion of children and young people achiev...</td>\n",
       "      <td>8</td>\n",
       "      <td>Albania</td>\n",
       "      <td>LOWSEC</td>\n",
       "      <td>G</td>\n",
       "      <td>FEMALE</td>\n",
       "      <td>...</td>\n",
       "      <td>NaN</td>\n",
       "      <td>NaN</td>\n",
       "      <td>NaN</td>\n",
       "      <td>NaN</td>\n",
       "      <td>NaN</td>\n",
       "      <td>58.04195</td>\n",
       "      <td>NaN</td>\n",
       "      <td>NaN</td>\n",
       "      <td>34.80</td>\n",
       "      <td>NaN</td>\n",
       "    </tr>\n",
       "    <tr>\n",
       "      <th>4</th>\n",
       "      <td>4</td>\n",
       "      <td>4.1</td>\n",
       "      <td>4.1.1</td>\n",
       "      <td>SE_TOT_PRFL</td>\n",
       "      <td>Proportion of children and young people achiev...</td>\n",
       "      <td>8</td>\n",
       "      <td>Albania</td>\n",
       "      <td>LOWSEC</td>\n",
       "      <td>G</td>\n",
       "      <td>MALE</td>\n",
       "      <td>...</td>\n",
       "      <td>NaN</td>\n",
       "      <td>NaN</td>\n",
       "      <td>44.61966</td>\n",
       "      <td>NaN</td>\n",
       "      <td>NaN</td>\n",
       "      <td>55.90192</td>\n",
       "      <td>NaN</td>\n",
       "      <td>NaN</td>\n",
       "      <td>23.03</td>\n",
       "      <td>NaN</td>\n",
       "    </tr>\n",
       "  </tbody>\n",
       "</table>\n",
       "<p>5 rows × 35 columns</p>\n",
       "</div>"
      ],
      "text/plain": [
       "   Goal  Target Indicator   SeriesCode   \n",
       "0     4     4.1     4.1.1  SE_TOT_PRFL  \\\n",
       "1     4     4.1     4.1.1  SE_TOT_PRFL   \n",
       "2     4     4.1     4.1.1  SE_TOT_PRFL   \n",
       "3     4     4.1     4.1.1  SE_TOT_PRFL   \n",
       "4     4     4.1     4.1.1  SE_TOT_PRFL   \n",
       "\n",
       "                                   SeriesDescription  GeoAreaCode GeoAreaName   \n",
       "0  Proportion of children and young people achiev...            8     Albania  \\\n",
       "1  Proportion of children and young people achiev...            8     Albania   \n",
       "2  Proportion of children and young people achiev...            8     Albania   \n",
       "3  Proportion of children and young people achiev...            8     Albania   \n",
       "4  Proportion of children and young people achiev...            8     Albania   \n",
       "\n",
       "  Education level Reporting Type      Sex  ... 2013 2014      2015  2016   \n",
       "0          LOWSEC              G  BOTHSEX  ...  NaN  NaN  46.71703   NaN  \\\n",
       "1          LOWSEC              G  BOTHSEX  ...  NaN  NaN  49.72273   NaN   \n",
       "2          LOWSEC              G   FEMALE  ...  NaN  NaN  48.80595   NaN   \n",
       "3          LOWSEC              G   FEMALE  ...  NaN  NaN       NaN   NaN   \n",
       "4          LOWSEC              G     MALE  ...  NaN  NaN  44.61966   NaN   \n",
       "\n",
       "   2017      2018  2019  2021   2022  2023  \n",
       "0   NaN  57.62715   NaN   NaN  26.05   NaN  \n",
       "1   NaN  47.76432   NaN   NaN  26.29   NaN  \n",
       "2   NaN  59.42498   NaN   NaN  29.33   NaN  \n",
       "3   NaN  58.04195   NaN   NaN  34.80   NaN  \n",
       "4   NaN  55.90192   NaN   NaN  23.03   NaN  \n",
       "\n",
       "[5 rows x 35 columns]"
      ]
     },
     "execution_count": 592,
     "metadata": {},
     "output_type": "execute_result"
    }
   ],
   "source": [
    "se_tot_prfl_original.head()"
   ]
  },
  {
   "cell_type": "code",
   "execution_count": 593,
   "metadata": {},
   "outputs": [
    {
     "data": {
      "text/html": [
       "<div>\n",
       "<style scoped>\n",
       "    .dataframe tbody tr th:only-of-type {\n",
       "        vertical-align: middle;\n",
       "    }\n",
       "\n",
       "    .dataframe tbody tr th {\n",
       "        vertical-align: top;\n",
       "    }\n",
       "\n",
       "    .dataframe thead th {\n",
       "        text-align: right;\n",
       "    }\n",
       "</style>\n",
       "<table border=\"1\" class=\"dataframe\">\n",
       "  <thead>\n",
       "    <tr style=\"text-align: right;\">\n",
       "      <th></th>\n",
       "      <th>Country</th>\n",
       "      <th>Value</th>\n",
       "    </tr>\n",
       "  </thead>\n",
       "  <tbody>\n",
       "    <tr>\n",
       "      <th>0</th>\n",
       "      <td>NaN</td>\n",
       "      <td>2022</td>\n",
       "    </tr>\n",
       "    <tr>\n",
       "      <th>1</th>\n",
       "      <td>VERY HIGH HUMAN DEVELOPMENT</td>\n",
       "      <td>NaN</td>\n",
       "    </tr>\n",
       "    <tr>\n",
       "      <th>2</th>\n",
       "      <td>Switzerland</td>\n",
       "      <td>0.967</td>\n",
       "    </tr>\n",
       "    <tr>\n",
       "      <th>3</th>\n",
       "      <td>Norway</td>\n",
       "      <td>0.966</td>\n",
       "    </tr>\n",
       "    <tr>\n",
       "      <th>4</th>\n",
       "      <td>Iceland</td>\n",
       "      <td>0.959</td>\n",
       "    </tr>\n",
       "  </tbody>\n",
       "</table>\n",
       "</div>"
      ],
      "text/plain": [
       "                       Country  Value\n",
       "0                          NaN   2022\n",
       "1  VERY HIGH HUMAN DEVELOPMENT    NaN\n",
       "2                  Switzerland  0.967\n",
       "3                       Norway  0.966\n",
       "4                      Iceland  0.959"
      ]
     },
     "execution_count": 593,
     "metadata": {},
     "output_type": "execute_result"
    }
   ],
   "source": [
    "hdi_original.head()"
   ]
  },
  {
   "cell_type": "markdown",
   "metadata": {},
   "source": [
    "## Data Wrangling (Preprocessing dan Tranformasi Data)"
   ]
  },
  {
   "cell_type": "markdown",
   "metadata": {},
   "source": [
    "Pada tahap ini, dilakukan perubahan nama kolom dan penghapusan kolom yang tidak relevan dengan proses analisis. Selain itu, pada tahap ini dilakukan penanganan missing values. Penanganan missing values dilakukan dengan metode fill forward (ffill). Cara kerja dari metode ini adalah dengan mengisi nilai kosong dengan nilai terakhir yang tersedia sebelum nilai kosong tersebut. Langkah- langkah ini dilakukan untuk mempermudah proses analisis."
   ]
  },
  {
   "cell_type": "markdown",
   "metadata": {},
   "source": [
    "### SE_ACS_CMPTR"
   ]
  },
  {
   "cell_type": "code",
   "execution_count": 594,
   "metadata": {},
   "outputs": [],
   "source": [
    "# Menghapus kolom yang tidak relevan\n",
    "se_acs_cmptr = se_acs_cmptr_original.copy()"
   ]
  },
  {
   "cell_type": "code",
   "execution_count": 595,
   "metadata": {},
   "outputs": [],
   "source": [
    "# Mengganti nama kolom\n",
    "se_acs_cmptr.rename(columns={'GeoAreaName': 'negara', '2023':'akses_komputer', 'Education level': 'tingkat_pendidikan'}, inplace=True)\n",
    "se_acs_cmptr.columns = se_acs_cmptr.columns.str.lower()"
   ]
  },
  {
   "cell_type": "code",
   "execution_count": 596,
   "metadata": {},
   "outputs": [],
   "source": [
    "# Mengisi nilai kosong\n",
    "se_acs_cmptr = se_acs_cmptr.fillna(method='ffill',axis=1)"
   ]
  },
  {
   "cell_type": "code",
   "execution_count": 597,
   "metadata": {},
   "outputs": [],
   "source": [
    "# Menghapus kolom yang tidak relevan\n",
    "se_acs_cmptr = se_acs_cmptr[['negara', 'tingkat_pendidikan', 'akses_komputer']]"
   ]
  },
  {
   "cell_type": "code",
   "execution_count": 598,
   "metadata": {},
   "outputs": [
    {
     "data": {
      "text/html": [
       "<div>\n",
       "<style scoped>\n",
       "    .dataframe tbody tr th:only-of-type {\n",
       "        vertical-align: middle;\n",
       "    }\n",
       "\n",
       "    .dataframe tbody tr th {\n",
       "        vertical-align: top;\n",
       "    }\n",
       "\n",
       "    .dataframe thead th {\n",
       "        text-align: right;\n",
       "    }\n",
       "</style>\n",
       "<table border=\"1\" class=\"dataframe\">\n",
       "  <thead>\n",
       "    <tr style=\"text-align: right;\">\n",
       "      <th></th>\n",
       "      <th>negara</th>\n",
       "      <th>tingkat_pendidikan</th>\n",
       "      <th>akses_komputer</th>\n",
       "    </tr>\n",
       "  </thead>\n",
       "  <tbody>\n",
       "    <tr>\n",
       "      <th>0</th>\n",
       "      <td>Afghanistan</td>\n",
       "      <td>LOWSEC</td>\n",
       "      <td>10.30588</td>\n",
       "    </tr>\n",
       "    <tr>\n",
       "      <th>1</th>\n",
       "      <td>Afghanistan</td>\n",
       "      <td>PRIMAR</td>\n",
       "      <td>8.9587</td>\n",
       "    </tr>\n",
       "    <tr>\n",
       "      <th>2</th>\n",
       "      <td>Afghanistan</td>\n",
       "      <td>SECOND</td>\n",
       "      <td>17.82398</td>\n",
       "    </tr>\n",
       "    <tr>\n",
       "      <th>3</th>\n",
       "      <td>Afghanistan</td>\n",
       "      <td>UPPSEC</td>\n",
       "      <td>23.47119</td>\n",
       "    </tr>\n",
       "    <tr>\n",
       "      <th>4</th>\n",
       "      <td>Albania</td>\n",
       "      <td>LOWSEC</td>\n",
       "      <td>83.02048</td>\n",
       "    </tr>\n",
       "  </tbody>\n",
       "</table>\n",
       "</div>"
      ],
      "text/plain": [
       "        negara tingkat_pendidikan akses_komputer\n",
       "0  Afghanistan             LOWSEC       10.30588\n",
       "1  Afghanistan             PRIMAR         8.9587\n",
       "2  Afghanistan             SECOND       17.82398\n",
       "3  Afghanistan             UPPSEC       23.47119\n",
       "4      Albania             LOWSEC       83.02048"
      ]
     },
     "execution_count": 598,
     "metadata": {},
     "output_type": "execute_result"
    }
   ],
   "source": [
    "se_acs_cmptr.head()"
   ]
  },
  {
   "cell_type": "markdown",
   "metadata": {},
   "source": [
    "### SE_ACS_INTNT"
   ]
  },
  {
   "cell_type": "code",
   "execution_count": 599,
   "metadata": {},
   "outputs": [],
   "source": [
    "se_acs_intnt = se_acs_intnt_original.copy()"
   ]
  },
  {
   "cell_type": "code",
   "execution_count": 600,
   "metadata": {},
   "outputs": [],
   "source": [
    "# Mengganti nama kolom\n",
    "se_acs_intnt.rename(columns={'GeoAreaName': 'negara', '2023': 'akses_internet', 'Education level': 'tingkat_pendidikan'}, inplace=True)\n",
    "se_acs_intnt.columns = se_acs_intnt.columns.str.lower()"
   ]
  },
  {
   "cell_type": "code",
   "execution_count": 601,
   "metadata": {},
   "outputs": [],
   "source": [
    "# Menghapus nilai kosong\n",
    "se_acs_intnt = se_acs_intnt.fillna(method='ffill',axis=1)"
   ]
  },
  {
   "cell_type": "code",
   "execution_count": 602,
   "metadata": {},
   "outputs": [],
   "source": [
    "# Menghapus kolom yang tidak relevan\n",
    "se_acs_intnt = se_acs_intnt[['negara', 'tingkat_pendidikan', 'akses_internet']]"
   ]
  },
  {
   "cell_type": "code",
   "execution_count": 603,
   "metadata": {},
   "outputs": [
    {
     "data": {
      "text/html": [
       "<div>\n",
       "<style scoped>\n",
       "    .dataframe tbody tr th:only-of-type {\n",
       "        vertical-align: middle;\n",
       "    }\n",
       "\n",
       "    .dataframe tbody tr th {\n",
       "        vertical-align: top;\n",
       "    }\n",
       "\n",
       "    .dataframe thead th {\n",
       "        text-align: right;\n",
       "    }\n",
       "</style>\n",
       "<table border=\"1\" class=\"dataframe\">\n",
       "  <thead>\n",
       "    <tr style=\"text-align: right;\">\n",
       "      <th></th>\n",
       "      <th>negara</th>\n",
       "      <th>tingkat_pendidikan</th>\n",
       "      <th>akses_internet</th>\n",
       "    </tr>\n",
       "  </thead>\n",
       "  <tbody>\n",
       "    <tr>\n",
       "      <th>0</th>\n",
       "      <td>Albania</td>\n",
       "      <td>LOWSEC</td>\n",
       "      <td>72.26962</td>\n",
       "    </tr>\n",
       "    <tr>\n",
       "      <th>1</th>\n",
       "      <td>Albania</td>\n",
       "      <td>PRIMAR</td>\n",
       "      <td>72.26962</td>\n",
       "    </tr>\n",
       "    <tr>\n",
       "      <th>2</th>\n",
       "      <td>Albania</td>\n",
       "      <td>SECOND</td>\n",
       "      <td>62.05444</td>\n",
       "    </tr>\n",
       "    <tr>\n",
       "      <th>3</th>\n",
       "      <td>Albania</td>\n",
       "      <td>UPPSEC</td>\n",
       "      <td>67.26908</td>\n",
       "    </tr>\n",
       "    <tr>\n",
       "      <th>4</th>\n",
       "      <td>Algeria</td>\n",
       "      <td>LOWSEC</td>\n",
       "      <td>93.21817</td>\n",
       "    </tr>\n",
       "  </tbody>\n",
       "</table>\n",
       "</div>"
      ],
      "text/plain": [
       "    negara tingkat_pendidikan akses_internet\n",
       "0  Albania             LOWSEC       72.26962\n",
       "1  Albania             PRIMAR       72.26962\n",
       "2  Albania             SECOND       62.05444\n",
       "3  Albania             UPPSEC       67.26908\n",
       "4  Algeria             LOWSEC       93.21817"
      ]
     },
     "execution_count": 603,
     "metadata": {},
     "output_type": "execute_result"
    }
   ],
   "source": [
    "se_acs_intnt.head()"
   ]
  },
  {
   "cell_type": "markdown",
   "metadata": {},
   "source": [
    "### SE_TOT_PRFL"
   ]
  },
  {
   "cell_type": "code",
   "execution_count": 604,
   "metadata": {},
   "outputs": [],
   "source": [
    "se_tot_prfl =  se_tot_prfl_original.copy()"
   ]
  },
  {
   "cell_type": "code",
   "execution_count": 605,
   "metadata": {},
   "outputs": [],
   "source": [
    "# Mengganti nama kolom\n",
    "se_tot_prfl.rename(columns={'GeoAreaName': 'negara', '2023': 'prop_penduduk_mahir', 'Education level': 'tingkat_pendidikan'}, inplace=True)\n",
    "se_tot_prfl.columns = se_tot_prfl.columns.str.lower()"
   ]
  },
  {
   "cell_type": "code",
   "execution_count": 606,
   "metadata": {},
   "outputs": [],
   "source": [
    "# Menghapus nilai kosong\n",
    "se_tot_prfl = se_tot_prfl.fillna(method='ffill',axis=1)"
   ]
  },
  {
   "cell_type": "code",
   "execution_count": 607,
   "metadata": {},
   "outputs": [],
   "source": [
    "# Menghapus kolom yang tidak relevan\n",
    "se_tot_prfl = se_tot_prfl[['negara', 'tingkat_pendidikan','sex', 'type of skill', 'prop_penduduk_mahir']]"
   ]
  },
  {
   "cell_type": "markdown",
   "metadata": {},
   "source": [
    "Pada tahap ini, dilakukan penggantian nilai \"GRAD23\" pada kolom tingkat_pendidikan di dalam dataset SE_TOT_PRFL menjadi \"PRIMAR\", karena nilai \"GRAD23\" adalah tingkat pendidikan kelas 2 - 3 pada jenjang \"PRIMAR\" (primary). Dengan kata lain, \"GRAD23\" merupakan bagian dari kelompok \"PRIMAR\". Sehingga pada analisis ini data dengan tingkat pendidikan \"GRAD23\" akan digabungkan dengan kelompok tingkat pendidikan \"PRIMAR\""
   ]
  },
  {
   "cell_type": "code",
   "execution_count": 608,
   "metadata": {},
   "outputs": [],
   "source": [
    "# Mengganti tingkat_pendidikan GRAD23 menjadi PRIMAR\n",
    "se_tot_prfl['tingkat_pendidikan'] = se_tot_prfl['tingkat_pendidikan'].astype(str).apply(lambda x: x.replace('GRAD23', 'PRIMAR'))\n",
    "se_tot_prfl = se_tot_prfl.groupby(['negara', 'tingkat_pendidikan', 'sex', 'type of skill'],as_index=False).agg(func='mean')"
   ]
  },
  {
   "cell_type": "code",
   "execution_count": 609,
   "metadata": {},
   "outputs": [
    {
     "data": {
      "text/html": [
       "<div>\n",
       "<style scoped>\n",
       "    .dataframe tbody tr th:only-of-type {\n",
       "        vertical-align: middle;\n",
       "    }\n",
       "\n",
       "    .dataframe tbody tr th {\n",
       "        vertical-align: top;\n",
       "    }\n",
       "\n",
       "    .dataframe thead th {\n",
       "        text-align: right;\n",
       "    }\n",
       "</style>\n",
       "<table border=\"1\" class=\"dataframe\">\n",
       "  <thead>\n",
       "    <tr style=\"text-align: right;\">\n",
       "      <th></th>\n",
       "      <th>negara</th>\n",
       "      <th>tingkat_pendidikan</th>\n",
       "      <th>sex</th>\n",
       "      <th>type of skill</th>\n",
       "      <th>prop_penduduk_mahir</th>\n",
       "    </tr>\n",
       "  </thead>\n",
       "  <tbody>\n",
       "    <tr>\n",
       "      <th>0</th>\n",
       "      <td>Albania</td>\n",
       "      <td>LOWSEC</td>\n",
       "      <td>BOTHSEX</td>\n",
       "      <td>SKILL_MATH</td>\n",
       "      <td>26.05</td>\n",
       "    </tr>\n",
       "    <tr>\n",
       "      <th>1</th>\n",
       "      <td>Albania</td>\n",
       "      <td>LOWSEC</td>\n",
       "      <td>BOTHSEX</td>\n",
       "      <td>SKILL_READ</td>\n",
       "      <td>26.29</td>\n",
       "    </tr>\n",
       "    <tr>\n",
       "      <th>2</th>\n",
       "      <td>Albania</td>\n",
       "      <td>LOWSEC</td>\n",
       "      <td>FEMALE</td>\n",
       "      <td>SKILL_MATH</td>\n",
       "      <td>29.33</td>\n",
       "    </tr>\n",
       "    <tr>\n",
       "      <th>3</th>\n",
       "      <td>Albania</td>\n",
       "      <td>LOWSEC</td>\n",
       "      <td>FEMALE</td>\n",
       "      <td>SKILL_READ</td>\n",
       "      <td>34.8</td>\n",
       "    </tr>\n",
       "    <tr>\n",
       "      <th>4</th>\n",
       "      <td>Albania</td>\n",
       "      <td>LOWSEC</td>\n",
       "      <td>MALE</td>\n",
       "      <td>SKILL_MATH</td>\n",
       "      <td>23.03</td>\n",
       "    </tr>\n",
       "  </tbody>\n",
       "</table>\n",
       "</div>"
      ],
      "text/plain": [
       "    negara tingkat_pendidikan      sex type of skill prop_penduduk_mahir\n",
       "0  Albania             LOWSEC  BOTHSEX    SKILL_MATH               26.05\n",
       "1  Albania             LOWSEC  BOTHSEX    SKILL_READ               26.29\n",
       "2  Albania             LOWSEC   FEMALE    SKILL_MATH               29.33\n",
       "3  Albania             LOWSEC   FEMALE    SKILL_READ                34.8\n",
       "4  Albania             LOWSEC     MALE    SKILL_MATH               23.03"
      ]
     },
     "execution_count": 609,
     "metadata": {},
     "output_type": "execute_result"
    }
   ],
   "source": [
    "se_tot_prfl.head()"
   ]
  },
  {
   "cell_type": "markdown",
   "metadata": {},
   "source": [
    "### HDI"
   ]
  },
  {
   "cell_type": "code",
   "execution_count": 610,
   "metadata": {},
   "outputs": [],
   "source": [
    "# Menghapus baris data yang tidak relevan / tidak digunakan dalam analisis\n",
    "hdi = hdi_original.loc[:hdi_original[hdi_original['Country'] == 'OTHER COUNTRIES OR TERRITORIES'].index[0] - 1,:]"
   ]
  },
  {
   "cell_type": "code",
   "execution_count": 611,
   "metadata": {},
   "outputs": [
    {
     "name": "stderr",
     "output_type": "stream",
     "text": [
      "C:\\Users\\jayaw\\AppData\\Local\\Temp\\ipykernel_5172\\593662784.py:2: SettingWithCopyWarning: \n",
      "A value is trying to be set on a copy of a slice from a DataFrame\n",
      "\n",
      "See the caveats in the documentation: https://pandas.pydata.org/pandas-docs/stable/user_guide/indexing.html#returning-a-view-versus-a-copy\n",
      "  hdi.rename(columns={'Value': 'human_development_index', 'Country': 'negara'}, inplace=True)\n"
     ]
    }
   ],
   "source": [
    "# Mengganti nama kolom\n",
    "hdi.rename(columns={'Value': 'human_development_index', 'Country': 'negara'}, inplace=True)"
   ]
  },
  {
   "cell_type": "code",
   "execution_count": 612,
   "metadata": {},
   "outputs": [],
   "source": [
    "# Menghapus baris yang mengandung missing value (baris yang tidak diperlukan dalam analisis)\n",
    "hdi = hdi[~hdi.isna().any(axis=1)].reset_index(drop=True)"
   ]
  },
  {
   "cell_type": "code",
   "execution_count": 613,
   "metadata": {},
   "outputs": [],
   "source": [
    "# Membuat kategori berdasarkan nilai HDI\n",
    "column = hdi['human_development_index']\n",
    "condlist = [\n",
    "    column >= 0.8,\n",
    "    (column < 0.8) & (column >= 0.7),\n",
    "    (column < 0.7) & (column >= 0.55),\n",
    "    column < .55\n",
    "]\n",
    "labels = ['Very high', 'High', 'Medium', 'Low']\n",
    "hdi['kategori_hdi'] = np.select(condlist=condlist,choicelist=labels)"
   ]
  },
  {
   "cell_type": "code",
   "execution_count": 614,
   "metadata": {},
   "outputs": [
    {
     "data": {
      "text/html": [
       "<div>\n",
       "<style scoped>\n",
       "    .dataframe tbody tr th:only-of-type {\n",
       "        vertical-align: middle;\n",
       "    }\n",
       "\n",
       "    .dataframe tbody tr th {\n",
       "        vertical-align: top;\n",
       "    }\n",
       "\n",
       "    .dataframe thead th {\n",
       "        text-align: right;\n",
       "    }\n",
       "</style>\n",
       "<table border=\"1\" class=\"dataframe\">\n",
       "  <thead>\n",
       "    <tr style=\"text-align: right;\">\n",
       "      <th></th>\n",
       "      <th>negara</th>\n",
       "      <th>human_development_index</th>\n",
       "      <th>kategori_hdi</th>\n",
       "    </tr>\n",
       "  </thead>\n",
       "  <tbody>\n",
       "    <tr>\n",
       "      <th>0</th>\n",
       "      <td>Switzerland</td>\n",
       "      <td>0.967</td>\n",
       "      <td>Very high</td>\n",
       "    </tr>\n",
       "    <tr>\n",
       "      <th>1</th>\n",
       "      <td>Norway</td>\n",
       "      <td>0.966</td>\n",
       "      <td>Very high</td>\n",
       "    </tr>\n",
       "    <tr>\n",
       "      <th>2</th>\n",
       "      <td>Iceland</td>\n",
       "      <td>0.959</td>\n",
       "      <td>Very high</td>\n",
       "    </tr>\n",
       "    <tr>\n",
       "      <th>3</th>\n",
       "      <td>Hong Kong, China (SAR)</td>\n",
       "      <td>0.956</td>\n",
       "      <td>Very high</td>\n",
       "    </tr>\n",
       "    <tr>\n",
       "      <th>4</th>\n",
       "      <td>Denmark</td>\n",
       "      <td>0.952</td>\n",
       "      <td>Very high</td>\n",
       "    </tr>\n",
       "  </tbody>\n",
       "</table>\n",
       "</div>"
      ],
      "text/plain": [
       "                   negara human_development_index kategori_hdi\n",
       "0             Switzerland                   0.967    Very high\n",
       "1                  Norway                   0.966    Very high\n",
       "2                 Iceland                   0.959    Very high\n",
       "3  Hong Kong, China (SAR)                   0.956    Very high\n",
       "4                 Denmark                   0.952    Very high"
      ]
     },
     "execution_count": 614,
     "metadata": {},
     "output_type": "execute_result"
    }
   ],
   "source": [
    "hdi.head()"
   ]
  },
  {
   "cell_type": "markdown",
   "metadata": {},
   "source": [
    "## Integrasi Data\n",
    "Pada tahap ini, dilakukan penggabungan pada ketiga dataset di atas menjadi satu dataset utama yang akan dianalisis."
   ]
  },
  {
   "cell_type": "code",
   "execution_count": 615,
   "metadata": {},
   "outputs": [
    {
     "data": {
      "text/html": [
       "<div>\n",
       "<style scoped>\n",
       "    .dataframe tbody tr th:only-of-type {\n",
       "        vertical-align: middle;\n",
       "    }\n",
       "\n",
       "    .dataframe tbody tr th {\n",
       "        vertical-align: top;\n",
       "    }\n",
       "\n",
       "    .dataframe thead th {\n",
       "        text-align: right;\n",
       "    }\n",
       "</style>\n",
       "<table border=\"1\" class=\"dataframe\">\n",
       "  <thead>\n",
       "    <tr style=\"text-align: right;\">\n",
       "      <th></th>\n",
       "      <th>negara</th>\n",
       "      <th>tingkat_pendidikan</th>\n",
       "      <th>akses_komputer</th>\n",
       "      <th>akses_internet</th>\n",
       "      <th>sex</th>\n",
       "      <th>type of skill</th>\n",
       "      <th>prop_penduduk_mahir</th>\n",
       "      <th>kategori_hdi</th>\n",
       "    </tr>\n",
       "  </thead>\n",
       "  <tbody>\n",
       "    <tr>\n",
       "      <th>0</th>\n",
       "      <td>Albania</td>\n",
       "      <td>LOWSEC</td>\n",
       "      <td>83.02048</td>\n",
       "      <td>72.26962</td>\n",
       "      <td>BOTHSEX</td>\n",
       "      <td>SKILL_MATH</td>\n",
       "      <td>26.05</td>\n",
       "      <td>High</td>\n",
       "    </tr>\n",
       "    <tr>\n",
       "      <th>1</th>\n",
       "      <td>Albania</td>\n",
       "      <td>LOWSEC</td>\n",
       "      <td>83.02048</td>\n",
       "      <td>72.26962</td>\n",
       "      <td>BOTHSEX</td>\n",
       "      <td>SKILL_READ</td>\n",
       "      <td>26.29</td>\n",
       "      <td>High</td>\n",
       "    </tr>\n",
       "    <tr>\n",
       "      <th>2</th>\n",
       "      <td>Albania</td>\n",
       "      <td>LOWSEC</td>\n",
       "      <td>83.02048</td>\n",
       "      <td>72.26962</td>\n",
       "      <td>FEMALE</td>\n",
       "      <td>SKILL_MATH</td>\n",
       "      <td>29.33</td>\n",
       "      <td>High</td>\n",
       "    </tr>\n",
       "    <tr>\n",
       "      <th>3</th>\n",
       "      <td>Albania</td>\n",
       "      <td>LOWSEC</td>\n",
       "      <td>83.02048</td>\n",
       "      <td>72.26962</td>\n",
       "      <td>FEMALE</td>\n",
       "      <td>SKILL_READ</td>\n",
       "      <td>34.8</td>\n",
       "      <td>High</td>\n",
       "    </tr>\n",
       "    <tr>\n",
       "      <th>4</th>\n",
       "      <td>Albania</td>\n",
       "      <td>LOWSEC</td>\n",
       "      <td>83.02048</td>\n",
       "      <td>72.26962</td>\n",
       "      <td>MALE</td>\n",
       "      <td>SKILL_MATH</td>\n",
       "      <td>23.03</td>\n",
       "      <td>High</td>\n",
       "    </tr>\n",
       "    <tr>\n",
       "      <th>...</th>\n",
       "      <td>...</td>\n",
       "      <td>...</td>\n",
       "      <td>...</td>\n",
       "      <td>...</td>\n",
       "      <td>...</td>\n",
       "      <td>...</td>\n",
       "      <td>...</td>\n",
       "      <td>...</td>\n",
       "    </tr>\n",
       "    <tr>\n",
       "      <th>918</th>\n",
       "      <td>Zimbabwe</td>\n",
       "      <td>PRIMAR</td>\n",
       "      <td>35.649</td>\n",
       "      <td>22.55075</td>\n",
       "      <td>BOTHSEX</td>\n",
       "      <td>SKILL_READ</td>\n",
       "      <td>45.4</td>\n",
       "      <td>Medium</td>\n",
       "    </tr>\n",
       "    <tr>\n",
       "      <th>919</th>\n",
       "      <td>Zimbabwe</td>\n",
       "      <td>PRIMAR</td>\n",
       "      <td>35.649</td>\n",
       "      <td>22.55075</td>\n",
       "      <td>FEMALE</td>\n",
       "      <td>SKILL_MATH</td>\n",
       "      <td>24.3</td>\n",
       "      <td>Medium</td>\n",
       "    </tr>\n",
       "    <tr>\n",
       "      <th>920</th>\n",
       "      <td>Zimbabwe</td>\n",
       "      <td>PRIMAR</td>\n",
       "      <td>35.649</td>\n",
       "      <td>22.55075</td>\n",
       "      <td>FEMALE</td>\n",
       "      <td>SKILL_READ</td>\n",
       "      <td>50.0</td>\n",
       "      <td>Medium</td>\n",
       "    </tr>\n",
       "    <tr>\n",
       "      <th>921</th>\n",
       "      <td>Zimbabwe</td>\n",
       "      <td>PRIMAR</td>\n",
       "      <td>35.649</td>\n",
       "      <td>22.55075</td>\n",
       "      <td>MALE</td>\n",
       "      <td>SKILL_MATH</td>\n",
       "      <td>22.5</td>\n",
       "      <td>Medium</td>\n",
       "    </tr>\n",
       "    <tr>\n",
       "      <th>922</th>\n",
       "      <td>Zimbabwe</td>\n",
       "      <td>PRIMAR</td>\n",
       "      <td>35.649</td>\n",
       "      <td>22.55075</td>\n",
       "      <td>MALE</td>\n",
       "      <td>SKILL_READ</td>\n",
       "      <td>40.9</td>\n",
       "      <td>Medium</td>\n",
       "    </tr>\n",
       "  </tbody>\n",
       "</table>\n",
       "<p>923 rows × 8 columns</p>\n",
       "</div>"
      ],
      "text/plain": [
       "       negara tingkat_pendidikan akses_komputer akses_internet      sex   \n",
       "0     Albania             LOWSEC       83.02048       72.26962  BOTHSEX  \\\n",
       "1     Albania             LOWSEC       83.02048       72.26962  BOTHSEX   \n",
       "2     Albania             LOWSEC       83.02048       72.26962   FEMALE   \n",
       "3     Albania             LOWSEC       83.02048       72.26962   FEMALE   \n",
       "4     Albania             LOWSEC       83.02048       72.26962     MALE   \n",
       "..        ...                ...            ...            ...      ...   \n",
       "918  Zimbabwe             PRIMAR         35.649       22.55075  BOTHSEX   \n",
       "919  Zimbabwe             PRIMAR         35.649       22.55075   FEMALE   \n",
       "920  Zimbabwe             PRIMAR         35.649       22.55075   FEMALE   \n",
       "921  Zimbabwe             PRIMAR         35.649       22.55075     MALE   \n",
       "922  Zimbabwe             PRIMAR         35.649       22.55075     MALE   \n",
       "\n",
       "    type of skill prop_penduduk_mahir kategori_hdi  \n",
       "0      SKILL_MATH               26.05         High  \n",
       "1      SKILL_READ               26.29         High  \n",
       "2      SKILL_MATH               29.33         High  \n",
       "3      SKILL_READ                34.8         High  \n",
       "4      SKILL_MATH               23.03         High  \n",
       "..            ...                 ...          ...  \n",
       "918    SKILL_READ                45.4       Medium  \n",
       "919    SKILL_MATH                24.3       Medium  \n",
       "920    SKILL_READ                50.0       Medium  \n",
       "921    SKILL_MATH                22.5       Medium  \n",
       "922    SKILL_READ                40.9       Medium  \n",
       "\n",
       "[923 rows x 8 columns]"
      ]
     },
     "execution_count": 615,
     "metadata": {},
     "output_type": "execute_result"
    }
   ],
   "source": [
    "df = pd.merge(se_acs_cmptr, se_acs_intnt, how='inner', on=['negara', 'tingkat_pendidikan'])\n",
    "df = pd.merge(df,se_tot_prfl,how='inner',on=['negara','tingkat_pendidikan'])\n",
    "df = pd.merge(df,hdi[['negara', 'kategori_hdi']], how='left', on='negara')\n",
    "df"
   ]
  },
  {
   "cell_type": "code",
   "execution_count": 616,
   "metadata": {},
   "outputs": [],
   "source": [
    "df = df.reindex(['negara', 'kategori_hdi', 'tingkat_pendidikan', 'sex', 'type of skill', 'akses_komputer', 'akses_internet', 'prop_penduduk_mahir'], axis=1)"
   ]
  },
  {
   "cell_type": "markdown",
   "metadata": {},
   "source": [
    "Pada tahap ini, dilakukan penghapusan kolom \"type of skill\". Setelah kolom ini dihapus, fitur \"prop_penduduk_mahir\" yang sebelumnya digolongkan menjadi keahlian membaca dan matematika (SKILL_MATH dan SKILL_READ), sekarang akan digabungkan menjadi satu dengan cara mengambil rata- rata dari proporsi penduduk yang memiliki keahlian SKILL_MATH dan SKILL_READ."
   ]
  },
  {
   "cell_type": "code",
   "execution_count": 617,
   "metadata": {},
   "outputs": [
    {
     "data": {
      "text/html": [
       "<div>\n",
       "<style scoped>\n",
       "    .dataframe tbody tr th:only-of-type {\n",
       "        vertical-align: middle;\n",
       "    }\n",
       "\n",
       "    .dataframe tbody tr th {\n",
       "        vertical-align: top;\n",
       "    }\n",
       "\n",
       "    .dataframe thead th {\n",
       "        text-align: right;\n",
       "    }\n",
       "</style>\n",
       "<table border=\"1\" class=\"dataframe\">\n",
       "  <thead>\n",
       "    <tr style=\"text-align: right;\">\n",
       "      <th></th>\n",
       "      <th>negara</th>\n",
       "      <th>kategori_hdi</th>\n",
       "      <th>tingkat_pendidikan</th>\n",
       "      <th>sex</th>\n",
       "      <th>akses_komputer</th>\n",
       "      <th>akses_internet</th>\n",
       "      <th>prop_penduduk_mahir</th>\n",
       "    </tr>\n",
       "  </thead>\n",
       "  <tbody>\n",
       "    <tr>\n",
       "      <th>0</th>\n",
       "      <td>Albania</td>\n",
       "      <td>High</td>\n",
       "      <td>LOWSEC</td>\n",
       "      <td>BOTHSEX</td>\n",
       "      <td>83.02048</td>\n",
       "      <td>72.26962</td>\n",
       "      <td>26.17</td>\n",
       "    </tr>\n",
       "    <tr>\n",
       "      <th>1</th>\n",
       "      <td>Albania</td>\n",
       "      <td>High</td>\n",
       "      <td>LOWSEC</td>\n",
       "      <td>FEMALE</td>\n",
       "      <td>83.02048</td>\n",
       "      <td>72.26962</td>\n",
       "      <td>32.065</td>\n",
       "    </tr>\n",
       "    <tr>\n",
       "      <th>2</th>\n",
       "      <td>Albania</td>\n",
       "      <td>High</td>\n",
       "      <td>LOWSEC</td>\n",
       "      <td>MALE</td>\n",
       "      <td>83.02048</td>\n",
       "      <td>72.26962</td>\n",
       "      <td>20.71</td>\n",
       "    </tr>\n",
       "    <tr>\n",
       "      <th>3</th>\n",
       "      <td>Albania</td>\n",
       "      <td>High</td>\n",
       "      <td>PRIMAR</td>\n",
       "      <td>BOTHSEX</td>\n",
       "      <td>83.02048</td>\n",
       "      <td>72.26962</td>\n",
       "      <td>76.935585</td>\n",
       "    </tr>\n",
       "    <tr>\n",
       "      <th>4</th>\n",
       "      <td>Albania</td>\n",
       "      <td>High</td>\n",
       "      <td>PRIMAR</td>\n",
       "      <td>FEMALE</td>\n",
       "      <td>83.02048</td>\n",
       "      <td>72.26962</td>\n",
       "      <td>77.242835</td>\n",
       "    </tr>\n",
       "    <tr>\n",
       "      <th>...</th>\n",
       "      <td>...</td>\n",
       "      <td>...</td>\n",
       "      <td>...</td>\n",
       "      <td>...</td>\n",
       "      <td>...</td>\n",
       "      <td>...</td>\n",
       "      <td>...</td>\n",
       "    </tr>\n",
       "    <tr>\n",
       "      <th>431</th>\n",
       "      <td>Zambia</td>\n",
       "      <td>Medium</td>\n",
       "      <td>PRIMAR</td>\n",
       "      <td>FEMALE</td>\n",
       "      <td>85.38957</td>\n",
       "      <td>5.81251</td>\n",
       "      <td>13.45</td>\n",
       "    </tr>\n",
       "    <tr>\n",
       "      <th>432</th>\n",
       "      <td>Zambia</td>\n",
       "      <td>Medium</td>\n",
       "      <td>PRIMAR</td>\n",
       "      <td>MALE</td>\n",
       "      <td>85.38957</td>\n",
       "      <td>5.81251</td>\n",
       "      <td>12.975</td>\n",
       "    </tr>\n",
       "    <tr>\n",
       "      <th>433</th>\n",
       "      <td>Zimbabwe</td>\n",
       "      <td>Medium</td>\n",
       "      <td>PRIMAR</td>\n",
       "      <td>BOTHSEX</td>\n",
       "      <td>35.649</td>\n",
       "      <td>22.55075</td>\n",
       "      <td>34.4</td>\n",
       "    </tr>\n",
       "    <tr>\n",
       "      <th>434</th>\n",
       "      <td>Zimbabwe</td>\n",
       "      <td>Medium</td>\n",
       "      <td>PRIMAR</td>\n",
       "      <td>FEMALE</td>\n",
       "      <td>35.649</td>\n",
       "      <td>22.55075</td>\n",
       "      <td>37.15</td>\n",
       "    </tr>\n",
       "    <tr>\n",
       "      <th>435</th>\n",
       "      <td>Zimbabwe</td>\n",
       "      <td>Medium</td>\n",
       "      <td>PRIMAR</td>\n",
       "      <td>MALE</td>\n",
       "      <td>35.649</td>\n",
       "      <td>22.55075</td>\n",
       "      <td>31.7</td>\n",
       "    </tr>\n",
       "  </tbody>\n",
       "</table>\n",
       "<p>436 rows × 7 columns</p>\n",
       "</div>"
      ],
      "text/plain": [
       "       negara kategori_hdi tingkat_pendidikan      sex akses_komputer   \n",
       "0     Albania         High             LOWSEC  BOTHSEX       83.02048  \\\n",
       "1     Albania         High             LOWSEC   FEMALE       83.02048   \n",
       "2     Albania         High             LOWSEC     MALE       83.02048   \n",
       "3     Albania         High             PRIMAR  BOTHSEX       83.02048   \n",
       "4     Albania         High             PRIMAR   FEMALE       83.02048   \n",
       "..        ...          ...                ...      ...            ...   \n",
       "431    Zambia       Medium             PRIMAR   FEMALE       85.38957   \n",
       "432    Zambia       Medium             PRIMAR     MALE       85.38957   \n",
       "433  Zimbabwe       Medium             PRIMAR  BOTHSEX         35.649   \n",
       "434  Zimbabwe       Medium             PRIMAR   FEMALE         35.649   \n",
       "435  Zimbabwe       Medium             PRIMAR     MALE         35.649   \n",
       "\n",
       "    akses_internet prop_penduduk_mahir  \n",
       "0         72.26962               26.17  \n",
       "1         72.26962              32.065  \n",
       "2         72.26962               20.71  \n",
       "3         72.26962           76.935585  \n",
       "4         72.26962           77.242835  \n",
       "..             ...                 ...  \n",
       "431        5.81251               13.45  \n",
       "432        5.81251              12.975  \n",
       "433       22.55075                34.4  \n",
       "434       22.55075               37.15  \n",
       "435       22.55075                31.7  \n",
       "\n",
       "[436 rows x 7 columns]"
      ]
     },
     "execution_count": 617,
     "metadata": {},
     "output_type": "execute_result"
    }
   ],
   "source": [
    "df.drop('type of skill', axis=1, inplace=True)\n",
    "df = df.groupby(by=['negara', 'kategori_hdi', 'tingkat_pendidikan', 'sex', 'akses_komputer', 'akses_internet',], as_index=False).mean()\n",
    "df"
   ]
  },
  {
   "cell_type": "markdown",
   "metadata": {},
   "source": [
    "## Analisis Korelasi"
   ]
  },
  {
   "cell_type": "code",
   "execution_count": 618,
   "metadata": {},
   "outputs": [
    {
     "data": {
      "text/plain": [
       "<Axes: xlabel='prop_penduduk_mahir', ylabel='Count'>"
      ]
     },
     "execution_count": 618,
     "metadata": {},
     "output_type": "execute_result"
    },
    {
     "data": {
      "image/png": "[encoded data removed]",
      "text/plain": [
       "<Figure size 640x480 with 1 Axes>"
      ]
     },
     "metadata": {},
     "output_type": "display_data"
    }
   ],
   "source": [
    "sns.histplot(df['prop_penduduk_mahir'], kde=True)"
   ]
  },
  {
   "cell_type": "markdown",
   "metadata": {},
   "source": [
    "Dari gambar di atas, dapat disimpulkan bahwa data (prop_penduduk_mahir) tidak terdistribusi normal. Pada tahap ini, akan dilakukan analisis korelasi dengan menggunakan metode Kruskal Wallis dan Rank Spearman. Kedua metode ini digunakan karena kedua metode ini tidak memerlukan adanya asumsi normalitas data. Kedua metode ini merupakan alternatif dari metode- metode seperti Korelasi Pearson dan one-way ANOVA yang mengasumsikan bahwa data terdistribusi normal.\n",
    "\n",
    "- Kruskal-Wallis: Digunakan untuk membandingkan median dari tiga atau lebih kelompok independen. Metode ini menjawab pertanyaan apakah ada perbedaan signifikan antara median kelompok-kelompok tersebut.\n",
    "- Spearman: Mengukur kekuatan dan arah hubungan monoton antara dua variabel kontinu atau ordinal. Metode ini menjawab pertanyaan seberapa kuat hubungan antara dua variabel, tanpa mengasumsikan hubungan linear."
   ]
  },
  {
   "cell_type": "markdown",
   "metadata": {},
   "source": [
    "### Kateogri HDI dan Kualitas Pendidikan"
   ]
  },
  {
   "cell_type": "code",
   "execution_count": 619,
   "metadata": {},
   "outputs": [
    {
     "data": {
      "text/plain": [
       "<Axes: xlabel='kategori_hdi', ylabel='prop_penduduk_mahir'>"
      ]
     },
     "execution_count": 619,
     "metadata": {},
     "output_type": "execute_result"
    },
    {
     "data": {
      "image/png": "[encoded data removed]",
      "text/plain": [
       "<Figure size 640x480 with 1 Axes>"
      ]
     },
     "metadata": {},
     "output_type": "display_data"
    }
   ],
   "source": [
    "sns.scatterplot(x='kategori_hdi', y='prop_penduduk_mahir', data=df)"
   ]
  },
  {
   "cell_type": "code",
   "execution_count": 620,
   "metadata": {},
   "outputs": [
    {
     "data": {
      "text/plain": [
       "KruskalResult(statistic=200.91391100475428, pvalue=2.6772523317484587e-43)"
      ]
     },
     "execution_count": 620,
     "metadata": {},
     "output_type": "execute_result"
    }
   ],
   "source": [
    "stats.kruskal(df['prop_penduduk_mahir'][df['kategori_hdi'] == 'Very high'],\n",
    "            df['prop_penduduk_mahir'][df['kategori_hdi'] == 'High'],\n",
    "            df['prop_penduduk_mahir'][df['kategori_hdi'] == 'Medium'],\n",
    "            df['prop_penduduk_mahir'][df['kategori_hdi'] == 'Low']\n",
    "            )"
   ]
  },
  {
   "cell_type": "markdown",
   "metadata": {},
   "source": [
    "### Tingkat Pendidikan dan Kualitas Pendidikan"
   ]
  },
  {
   "cell_type": "code",
   "execution_count": 621,
   "metadata": {},
   "outputs": [
    {
     "data": {
      "text/plain": [
       "<Axes: xlabel='tingkat_pendidikan', ylabel='prop_penduduk_mahir'>"
      ]
     },
     "execution_count": 621,
     "metadata": {},
     "output_type": "execute_result"
    },
    {
     "data": {
      "image/png": "[encoded data removed]",
      "text/plain": [
       "<Figure size 640x480 with 1 Axes>"
      ]
     },
     "metadata": {},
     "output_type": "display_data"
    }
   ],
   "source": [
    "sns.scatterplot(x='tingkat_pendidikan', y='prop_penduduk_mahir', \n",
    "                data=df[(df['tingkat_pendidikan'] == 'PRIMAR') | (df['tingkat_pendidikan'] == 'LOWSEC')])"
   ]
  },
  {
   "cell_type": "code",
   "execution_count": 622,
   "metadata": {},
   "outputs": [
    {
     "data": {
      "text/plain": [
       "KruskalResult(statistic=12.811170808411452, pvalue=0.0003445558815374095)"
      ]
     },
     "execution_count": 622,
     "metadata": {},
     "output_type": "execute_result"
    }
   ],
   "source": [
    "stats.kruskal(df['prop_penduduk_mahir'][df['tingkat_pendidikan'] == 'PRIMAR'], \n",
    "                df['prop_penduduk_mahir'][df['tingkat_pendidikan'] == 'LOWSEC'])"
   ]
  },
  {
   "cell_type": "markdown",
   "metadata": {},
   "source": [
    "### Jenis Kelamin dan Kualitas Pendidikan"
   ]
  },
  {
   "cell_type": "code",
   "execution_count": 623,
   "metadata": {},
   "outputs": [
    {
     "data": {
      "text/plain": [
       "<Axes: xlabel='sex', ylabel='prop_penduduk_mahir'>"
      ]
     },
     "execution_count": 623,
     "metadata": {},
     "output_type": "execute_result"
    },
    {
     "data": {
      "image/png": "[encoded data removed]",
      "text/plain": [
       "<Figure size 640x480 with 1 Axes>"
      ]
     },
     "metadata": {},
     "output_type": "display_data"
    }
   ],
   "source": [
    "sns.scatterplot(x='sex', y='prop_penduduk_mahir', \n",
    "                data=df[(df['sex'] == 'MALE') | (df['sex'] == 'FEMALE')])"
   ]
  },
  {
   "cell_type": "code",
   "execution_count": 624,
   "metadata": {},
   "outputs": [
    {
     "data": {
      "text/plain": [
       "KruskalResult(statistic=1.4794214055432349, pvalue=0.22386507071387587)"
      ]
     },
     "execution_count": 624,
     "metadata": {},
     "output_type": "execute_result"
    }
   ],
   "source": [
    "stats.kruskal(df['prop_penduduk_mahir'][df['sex'] == 'MALE'], \n",
    "                df['prop_penduduk_mahir'][df['sex'] == 'FEMALE'])"
   ]
  },
  {
   "cell_type": "markdown",
   "metadata": {},
   "source": [
    "### Akses Komputer dan Kualitas Pendidikan"
   ]
  },
  {
   "cell_type": "code",
   "execution_count": 625,
   "metadata": {},
   "outputs": [
    {
     "data": {
      "text/plain": [
       "<matplotlib.collections.PathCollection at 0x18a256e93c0>"
      ]
     },
     "execution_count": 625,
     "metadata": {},
     "output_type": "execute_result"
    },
    {
     "data": {
      "image/png": "[encoded data removed]",
      "text/plain": [
       "<Figure size 640x480 with 1 Axes>"
      ]
     },
     "metadata": {},
     "output_type": "display_data"
    }
   ],
   "source": [
    "plt.scatter(df['akses_komputer'], df['prop_penduduk_mahir'])"
   ]
  },
  {
   "cell_type": "code",
   "execution_count": 626,
   "metadata": {},
   "outputs": [
    {
     "data": {
      "text/html": [
       "<div>\n",
       "<style scoped>\n",
       "    .dataframe tbody tr th:only-of-type {\n",
       "        vertical-align: middle;\n",
       "    }\n",
       "\n",
       "    .dataframe tbody tr th {\n",
       "        vertical-align: top;\n",
       "    }\n",
       "\n",
       "    .dataframe thead th {\n",
       "        text-align: right;\n",
       "    }\n",
       "</style>\n",
       "<table border=\"1\" class=\"dataframe\">\n",
       "  <thead>\n",
       "    <tr style=\"text-align: right;\">\n",
       "      <th></th>\n",
       "      <th>akses_komputer</th>\n",
       "      <th>prop_penduduk_mahir</th>\n",
       "    </tr>\n",
       "  </thead>\n",
       "  <tbody>\n",
       "    <tr>\n",
       "      <th>akses_komputer</th>\n",
       "      <td>1.000000</td>\n",
       "      <td>0.532803</td>\n",
       "    </tr>\n",
       "    <tr>\n",
       "      <th>prop_penduduk_mahir</th>\n",
       "      <td>0.532803</td>\n",
       "      <td>1.000000</td>\n",
       "    </tr>\n",
       "  </tbody>\n",
       "</table>\n",
       "</div>"
      ],
      "text/plain": [
       "                     akses_komputer  prop_penduduk_mahir\n",
       "akses_komputer             1.000000             0.532803\n",
       "prop_penduduk_mahir        0.532803             1.000000"
      ]
     },
     "execution_count": 626,
     "metadata": {},
     "output_type": "execute_result"
    }
   ],
   "source": [
    "df[['akses_komputer', 'prop_penduduk_mahir']].corr(method='spearman')"
   ]
  },
  {
   "cell_type": "markdown",
   "metadata": {},
   "source": [
    "### Akses Internet dan Kualitas Pendidikan"
   ]
  },
  {
   "cell_type": "code",
   "execution_count": 627,
   "metadata": {},
   "outputs": [
    {
     "data": {
      "text/plain": [
       "<matplotlib.collections.PathCollection at 0x18a256297e0>"
      ]
     },
     "execution_count": 627,
     "metadata": {},
     "output_type": "execute_result"
    },
    {
     "data": {
      "image/png": "[encoded data removed]",
      "text/plain": [
       "<Figure size 640x480 with 1 Axes>"
      ]
     },
     "metadata": {},
     "output_type": "display_data"
    }
   ],
   "source": [
    "plt.scatter(df['akses_internet'], df['prop_penduduk_mahir'])"
   ]
  },
  {
   "cell_type": "code",
   "execution_count": 628,
   "metadata": {},
   "outputs": [
    {
     "data": {
      "text/html": [
       "<div>\n",
       "<style scoped>\n",
       "    .dataframe tbody tr th:only-of-type {\n",
       "        vertical-align: middle;\n",
       "    }\n",
       "\n",
       "    .dataframe tbody tr th {\n",
       "        vertical-align: top;\n",
       "    }\n",
       "\n",
       "    .dataframe thead th {\n",
       "        text-align: right;\n",
       "    }\n",
       "</style>\n",
       "<table border=\"1\" class=\"dataframe\">\n",
       "  <thead>\n",
       "    <tr style=\"text-align: right;\">\n",
       "      <th></th>\n",
       "      <th>akses_internet</th>\n",
       "      <th>prop_penduduk_mahir</th>\n",
       "    </tr>\n",
       "  </thead>\n",
       "  <tbody>\n",
       "    <tr>\n",
       "      <th>akses_internet</th>\n",
       "      <td>1.000000</td>\n",
       "      <td>0.624509</td>\n",
       "    </tr>\n",
       "    <tr>\n",
       "      <th>prop_penduduk_mahir</th>\n",
       "      <td>0.624509</td>\n",
       "      <td>1.000000</td>\n",
       "    </tr>\n",
       "  </tbody>\n",
       "</table>\n",
       "</div>"
      ],
      "text/plain": [
       "                     akses_internet  prop_penduduk_mahir\n",
       "akses_internet             1.000000             0.624509\n",
       "prop_penduduk_mahir        0.624509             1.000000"
      ]
     },
     "execution_count": 628,
     "metadata": {},
     "output_type": "execute_result"
    }
   ],
   "source": [
    "df[['akses_internet', 'prop_penduduk_mahir']].corr(method='spearman')"
   ]
  }
 ],
 "metadata": {
  "kernelspec": {
   "display_name": "Python 3",
   "language": "python",
   "name": "python3"
  },
  "language_info": {
   "codemirror_mode": {
    "name": "ipython",
    "version": 3
   },
   "file_extension": ".py",
   "mimetype": "text/x-python",
   "name": "python",
   "nbconvert_exporter": "python",
   "pygments_lexer": "ipython3",
   "version": "3.10.11"
  }
 },
 "nbformat": 4,
 "nbformat_minor": 2
}
